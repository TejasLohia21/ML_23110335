{
 "cells": [
  {
   "cell_type": "code",
   "execution_count": 18,
   "metadata": {},
   "outputs": [],
   "source": [
    "import pandas as pd\n",
    "import numpy as np\n",
    "import time\n",
    "import random\n",
    "import matplotlib.pyplot as plt"
   ]
  },
  {
   "cell_type": "markdown",
   "metadata": {},
   "source": [
    "Question 1:\n",
    "\n",
    "The number of multiplications and addition to be performed to multiply a (n, k) and (k, m) matrix.\n",
    "\n",
    "Solution:\n",
    "Let matrix with dimension (n,k) be M1 and matrix with dimension (k,m) be M2.\n",
    "Multiplication is possible as M1 x M2 resulting in a (n,m) dimensioned Matrix.\n",
    "\n",
    "Solution:\n",
    "For the multiplication, each row of M1 gets multiplied to the corresponding column of M2.\n",
    "Number of elements in rows of M1: k\n",
    "Number of elements in columns of M2: k\n",
    "\n",
    "So for each row and column multiplication, \n",
    "        Multiplications are: k\n",
    "        Additions are:       k-1.\n",
    "\n",
    "For each row of the matrix, m number of such row x column multiplications have to be performed.\n",
    "So number of multiplications for each row of the new matrix : m*(k)\n",
    "Addition : m*(k-1).\n",
    "\n",
    "For n such number of rows,\n",
    "\n",
    "Multiplications: n*m*(k)\n",
    "Addition:        n*m*(k-1)"
   ]
  },
  {
   "cell_type": "markdown",
   "metadata": {},
   "source": [
    "Question2:\n",
    "\n",
    "Multiplication performed using lists of lists, and using numpy.\n",
    "Required: Difference in the time required for both the methods.\n"
   ]
  },
  {
   "cell_type": "code",
   "execution_count": 199,
   "metadata": {},
   "outputs": [],
   "source": [
    "#generating a random matrix of size 8*10 and 10*8\n",
    "\n",
    "#mat1 = np.random.rand(8,10)\n",
    "#mat2 = np.random.rand(10, 8)\n",
    "\n",
    "mat1 = []\n",
    "r,c = 8,10\n",
    "for a in range(r):\n",
    "    #Generating r number of rows\n",
    "    row = []\n",
    "    for a in range(c):\n",
    "        row.append(random.randint(0, 100)) \n",
    "    #print(len(row))\n",
    "    mat1.append(row)\n",
    "\n",
    "mat2 = []\n",
    "r,c = 10, 10\n",
    "for a in range(r):\n",
    "    #Generating r number of rows\n",
    "    row = []\n",
    "    for a in range(c):\n",
    "        row.append(random.randint(0, 100)) \n",
    "    mat2.append(row)\n"
   ]
  },
  {
   "cell_type": "code",
   "execution_count": 200,
   "metadata": {},
   "outputs": [],
   "source": [
    "#Now generating a random numpy array with same values\n",
    "\n",
    "np_mat1 = np.array(mat1)\n",
    "np_mat2 = np.array(mat2)"
   ]
  },
  {
   "cell_type": "code",
   "execution_count": 201,
   "metadata": {},
   "outputs": [
    {
     "name": "stdout",
     "output_type": "stream",
     "text": [
      "[[28, 28, 44, 12, 24, 46, 66, 97, 78, 20], [39, 28, 22, 57, 33, 34, 44, 68, 54, 27], [16, 44, 64, 89, 9, 91, 86, 66, 98, 90], [6, 54, 89, 61, 20, 81, 11, 56, 94, 81], [62, 82, 27, 73, 19, 97, 22, 24, 69, 8], [86, 80, 63, 28, 5, 19, 100, 25, 26, 86], [11, 40, 16, 38, 94, 23, 18, 18, 51, 50], [25, 9, 92, 48, 94, 36, 51, 61, 23, 72]]\n"
     ]
    }
   ],
   "source": [
    "print(mat1)"
   ]
  },
  {
   "cell_type": "code",
   "execution_count": 202,
   "metadata": {},
   "outputs": [
    {
     "name": "stdout",
     "output_type": "stream",
     "text": [
      "[[ 28  28  44  12  24  46  66  97  78  20]\n",
      " [ 39  28  22  57  33  34  44  68  54  27]\n",
      " [ 16  44  64  89   9  91  86  66  98  90]\n",
      " [  6  54  89  61  20  81  11  56  94  81]\n",
      " [ 62  82  27  73  19  97  22  24  69   8]\n",
      " [ 86  80  63  28   5  19 100  25  26  86]\n",
      " [ 11  40  16  38  94  23  18  18  51  50]\n",
      " [ 25   9  92  48  94  36  51  61  23  72]]\n"
     ]
    }
   ],
   "source": [
    "print(np_mat1)"
   ]
  },
  {
   "cell_type": "markdown",
   "metadata": {},
   "source": [
    "For multiplication of lists(nested), I have defined a function named multiplication, while for multiplication of numpy matrix, I have used inbuilt function.\n",
    "\n",
    "Reference: https://docs.python.org/3/library/timeit.html - Reference for counting the running time of a snippet of a code."
   ]
  },
  {
   "cell_type": "code",
   "execution_count": 203,
   "metadata": {},
   "outputs": [],
   "source": [
    "def multiplication(mat1, mat2):\n",
    "    r = len(mat1)\n",
    "    c = len(mat1[0])\n",
    "    r2 = c\n",
    "    c2 = len(mat2[0])\n",
    "    #new matrix named final_matrix\n",
    "    final_matrix = []\n",
    "\n",
    "    for a in range(r):\n",
    "        row = mat1[a]\n",
    "        new_r = []\n",
    "        for b in range(c2):\n",
    "            sum = 0\n",
    "            for alpha in range(r2):\n",
    "                sum = sum + row[alpha]*mat2[alpha][b]\n",
    "                \n",
    "            new_r.append(sum)\n",
    "        final_matrix.append(new_r)\n",
    "    return final_matrix\n",
    "      "
   ]
  },
  {
   "cell_type": "code",
   "execution_count": 204,
   "metadata": {},
   "outputs": [
    {
     "name": "stdout",
     "output_type": "stream",
     "text": [
      "[21308, 20982, 18125, 27225, 19131, 24517, 15041, 22364, 17094, 20379]\n",
      "[18108, 18406, 17614, 26127, 18059, 20797, 13189, 21367, 14286, 18170]\n",
      "[33778, 30522, 32508, 39898, 32582, 33848, 13331, 38034, 20360, 24168]\n",
      "[26615, 25031, 31073, 31343, 26351, 29277, 8802, 34524, 21359, 16340]\n",
      "[19185, 21045, 26723, 28374, 19363, 26826, 10625, 30955, 19232, 16202]\n",
      "[23425, 20295, 27411, 30060, 21786, 25625, 14849, 24855, 20401, 17130]\n",
      "[13573, 13401, 18137, 23071, 15312, 19314, 8371, 16907, 14538, 9723]\n",
      "[23781, 19171, 24473, 27994, 19372, 24392, 14639, 24678, 19749, 15661]\n"
     ]
    }
   ],
   "source": [
    "final_ans= multiplication(mat1, mat2)\n",
    "for a in final_ans:\n",
    "    print(a)"
   ]
  },
  {
   "cell_type": "code",
   "execution_count": 205,
   "metadata": {},
   "outputs": [
    {
     "name": "stdout",
     "output_type": "stream",
     "text": [
      "28.3 μs ± 363 ns per loop (mean ± std. dev. of 7 runs, 10,000 loops each)\n"
     ]
    }
   ],
   "source": [
    "%timeit multiplication(mat1, mat2)\n"
   ]
  },
  {
   "cell_type": "code",
   "execution_count": 206,
   "metadata": {},
   "outputs": [],
   "source": [
    "def numpy_mult(mat1, mat2):\n",
    "    final_mat = mat1@mat2\n",
    "    return final_mat"
   ]
  },
  {
   "cell_type": "code",
   "execution_count": 207,
   "metadata": {},
   "outputs": [
    {
     "name": "stdout",
     "output_type": "stream",
     "text": [
      "[[21308 20982 18125 27225 19131 24517 15041 22364 17094 20379]\n",
      " [18108 18406 17614 26127 18059 20797 13189 21367 14286 18170]\n",
      " [33778 30522 32508 39898 32582 33848 13331 38034 20360 24168]\n",
      " [26615 25031 31073 31343 26351 29277  8802 34524 21359 16340]\n",
      " [19185 21045 26723 28374 19363 26826 10625 30955 19232 16202]\n",
      " [23425 20295 27411 30060 21786 25625 14849 24855 20401 17130]\n",
      " [13573 13401 18137 23071 15312 19314  8371 16907 14538  9723]\n",
      " [23781 19171 24473 27994 19372 24392 14639 24678 19749 15661]]\n"
     ]
    }
   ],
   "source": [
    "final_mat = numpy_mult(np_mat1, np_mat2)\n",
    "print(final_mat)"
   ]
  },
  {
   "cell_type": "code",
   "execution_count": 208,
   "metadata": {},
   "outputs": [
    {
     "name": "stdout",
     "output_type": "stream",
     "text": [
      "783 ns ± 26.5 ns per loop (mean ± std. dev. of 7 runs, 1,000,000 loops each)\n"
     ]
    }
   ],
   "source": [
    "%timeit numpy_mult(np_mat1, np_mat2)"
   ]
  },
  {
   "cell_type": "markdown",
   "metadata": {},
   "source": [
    "As, we can observe, numpy is exceptionally fast in multiplyting matrices.\n",
    "The reason behind this are:\n",
    "\n",
    "The main reason behind this being the homogeneity in the data that are being stored in the arrays as compared to the heterogenous data stored in nested lists. In such cases, as the properties of elements need to be stored once rather than allocating the storage for properties of every element, this optimizes memory and thus the performance.\n",
    "\n",
    "Also, the way in which numpy executes, by fragmentation and processing parallely makes it quite efficient as compared to nested lists.\n",
    "\n",
    "Reference: https://www.geeksforgeeks.org/why-numpy-is-faster-in-python/"
   ]
  },
  {
   "cell_type": "markdown",
   "metadata": {},
   "source": [
    "Question 3"
   ]
  },
  {
   "cell_type": "code",
   "execution_count": 54,
   "metadata": {},
   "outputs": [
    {
     "name": "stdout",
     "output_type": "stream",
     "text": [
      "[58, 6, 25, 89, 7, 13, 100, 11, 73, 49]\n"
     ]
    }
   ],
   "source": [
    "int_list = [58, 6, 25, 89, 7, 13, 100, 11, 73, 49]\n",
    "#assuming distinct elements, if not, then multiple elements can be deleted by refining the list using the following function\n",
    "\n",
    "def refining(lst1):\n",
    "    final_list = []\n",
    "    for a in lst1:\n",
    "        if a not in final_list:\n",
    "            final_list.append(a)\n",
    "    return final_list\n",
    "\n",
    "int_list = refining(int_list)\n",
    "print(int_list)\n",
    "\n",
    "def median(int_list):\n",
    "    #we need to keep on finding max elements.\n",
    "    len_list = len(int_list)\n",
    "    min_ele = min(int_list)\n",
    "    max_ele = max(int_list)\n",
    "    sorted_list = [max_ele]\n",
    "    while True:\n",
    "        if len(sorted_list) == len_list:\n",
    "            break\n",
    "        else:\n",
    "            ele = min_ele\n",
    "            for a in int_list:\n",
    "                if a>ele and a<sorted_list[-1]:\n",
    "                    ele = a\n",
    "                else:\n",
    "                    pass\n",
    "            sorted_list.append(ele)\n",
    "        print\n",
    "\n",
    "                \n",
    "    \n",
    "    if len_list%2==0:\n",
    "        return (sorted_list[int(len_list/2)] + sorted_list[int(len_list/2) - 1])/2\n",
    "    else:\n",
    "        return (sorted_list[int(len_list//2)])            "
   ]
  },
  {
   "cell_type": "code",
   "execution_count": 55,
   "metadata": {},
   "outputs": [
    {
     "name": "stdout",
     "output_type": "stream",
     "text": [
      "37.0\n"
     ]
    }
   ],
   "source": [
    "median_ans = median(int_list)\n",
    "print(median_ans)"
   ]
  },
  {
   "cell_type": "markdown",
   "metadata": {},
   "source": [
    "Time complexity to find the median is as follows:\n",
    "\n",
    "O(n) in finding max and min element from the list.\n",
    "Then each time we traverse thru all the elements, we compare the higher and higher elements each time, such that they shud be smaller than the previous larger element.\n",
    "\n",
    "Also, the while loop runs for n times. (we ignore time requried for min and maz)\n",
    "Hence, n*O(n), that is O(n^2)"
   ]
  },
  {
   "cell_type": "code",
   "execution_count": 56,
   "metadata": {},
   "outputs": [
    {
     "name": "stdout",
     "output_type": "stream",
     "text": [
      "1.94 μs ± 34.6 ns per loop (mean ± std. dev. of 7 runs, 1,000,000 loops each)\n"
     ]
    }
   ],
   "source": [
    "%timeit median(int_list)"
   ]
  },
  {
   "cell_type": "code",
   "execution_count": 57,
   "metadata": {},
   "outputs": [],
   "source": [
    "def opt_median(int_list):\n",
    "    #using O(nlogn) mechanism\n",
    "    int_list.sort()\n",
    "    len_list = len(int_list)\n",
    "    if len_list%2==0:\n",
    "        return (int_list[int(len_list/2)] + int_list[int(len_list/2) - 1])/2\n",
    "    else:\n",
    "        return (int_list[int(len_list//2)])"
   ]
  },
  {
   "cell_type": "code",
   "execution_count": 58,
   "metadata": {},
   "outputs": [
    {
     "name": "stdout",
     "output_type": "stream",
     "text": [
      "37.0\n"
     ]
    }
   ],
   "source": [
    "median_ans = opt_median(int_list)\n",
    "print(median_ans)"
   ]
  },
  {
   "cell_type": "code",
   "execution_count": 59,
   "metadata": {},
   "outputs": [
    {
     "name": "stdout",
     "output_type": "stream",
     "text": [
      "138 ns ± 0.877 ns per loop (mean ± std. dev. of 7 runs, 10,000,000 loops each)\n"
     ]
    }
   ],
   "source": [
    "%timeit opt_median(int_list)"
   ]
  },
  {
   "cell_type": "code",
   "execution_count": 60,
   "metadata": {},
   "outputs": [],
   "source": [
    "#Finding using numpy\n",
    "int_list  = np.array(int_list)\n",
    "def numpy_median(int_list):\n",
    "    return np.median(int_list)\n"
   ]
  },
  {
   "cell_type": "code",
   "execution_count": 61,
   "metadata": {},
   "outputs": [
    {
     "name": "stdout",
     "output_type": "stream",
     "text": [
      "37.0\n"
     ]
    }
   ],
   "source": [
    "median_ans = numpy_median(int_list)\n",
    "print(median_ans)"
   ]
  },
  {
   "cell_type": "code",
   "execution_count": 209,
   "metadata": {},
   "outputs": [
    {
     "name": "stdout",
     "output_type": "stream",
     "text": [
      "3.63 μs ± 82.4 ns per loop (mean ± std. dev. of 7 runs, 100,000 loops each)\n"
     ]
    }
   ],
   "source": [
    "%timeit numpy_median(int_list)"
   ]
  },
  {
   "cell_type": "markdown",
   "metadata": {},
   "source": [
    "This is an exception case, but numpy.median() is taking more time to fetch the result that nomral code written."
   ]
  },
  {
   "cell_type": "markdown",
   "metadata": {},
   "source": [
    "Question 4\n",
    "\n",
    "x^2 * y + y^3*sin(x)\n",
    "Taking Partial derivative with respect to x, gives gradient with respect to x and same goes of y   "
   ]
  },
  {
   "cell_type": "markdown",
   "metadata": {},
   "source": [
    "Partial Derivative wrt to x, which is equal to gradient with respect to x\n",
    "$$\n",
    "\\frac{\\partial}{\\partial x} (x^2 y) + \\frac{\\partial}{\\partial x} (y^3 \\sin(x)) = 2xy + y^3\\cos(x)\n",
    "$$\n",
    "\n",
    "Partial Derivative wrt to x, which is equal to gradient with respect to y\n",
    "$$\n",
    "\\frac{\\partial}{\\partial y} (x^2 y) + \\frac{\\partial}{\\partial y} (y^3 \\sin(x)) = x^2 + 3y^2\\sin(x)\n",
    "$$"
   ]
  },
  {
   "cell_type": "markdown",
   "metadata": {},
   "source": [
    "Question 5\n",
    "Reference for JAX:\n",
    "https://jax.readthedocs.io/en/latest/automatic-differentiation.html"
   ]
  },
  {
   "cell_type": "code",
   "execution_count": 89,
   "metadata": {},
   "outputs": [],
   "source": [
    "random_val_x = [58, 6, 25, 89, 7]\n",
    "random_val_y = [ 13, 100, 11, 73, 49]"
   ]
  },
  {
   "cell_type": "code",
   "execution_count": 90,
   "metadata": {},
   "outputs": [],
   "source": [
    "#Finding derivative using our solution.\n",
    "\n",
    "def function_grad_self_x(x,y):\n",
    "    return 2*x*y + y**2*np.cos(x)\n",
    "\n",
    "def function_grad_self_y(x,y):\n",
    "    return x**2 + 3*y**2*np.sin(x)\n",
    "\n",
    "gradient_self_x = []\n",
    "gradient_self_y = []\n",
    "for a in range(len(random_val_x)):\n",
    "    gradient_self_x.append(function_grad_self_x(random_val_x[a],random_val_y[a]))\n",
    "    gradient_self_y.append(function_grad_self_y(random_val_x[a],random_val_y[a]))\n",
    "    "
   ]
  },
  {
   "cell_type": "code",
   "execution_count": 91,
   "metadata": {},
   "outputs": [
    {
     "name": "stdout",
     "output_type": "stream",
     "text": [
      "[np.float64(1528.1414428908504), np.float64(10801.70286650366), np.float64(669.9355402354803), np.float64(15712.733472494154), np.float64(2496.1193126782746)]\n",
      "[np.float64(3867.3864325788604), np.float64(-8346.464945967777), np.float64(576.9563147145084), np.float64(21670.92959072369), np.float64(4781.274470571438)]\n"
     ]
    }
   ],
   "source": [
    "print(gradient_self_x)\n",
    "print(gradient_self_y)"
   ]
  },
  {
   "cell_type": "code",
   "execution_count": 6,
   "metadata": {},
   "outputs": [],
   "source": [
    "import jax\n",
    "import jax.numpy as jnp\n",
    "from jax import grad"
   ]
  },
  {
   "cell_type": "markdown",
   "metadata": {},
   "source": [
    "First we calculate gradient wrt x\n",
    "\n",
    "Reference : https://youtu.be/juo5G3t4qAo?feature=shared"
   ]
  },
  {
   "cell_type": "code",
   "execution_count": 93,
   "metadata": {},
   "outputs": [],
   "source": [
    "lleng = len(random_val_x)\n",
    "\n",
    "def function_grad(x,y):\n",
    "    return (x**2)*y + (y**3)*jnp.sin(x)\n",
    "random_val_x = jnp.asarray(random_val_x,dtype=float)\n",
    "random_val_y = jnp.asarray(random_val_y,dtype=float)"
   ]
  },
  {
   "cell_type": "code",
   "execution_count": 94,
   "metadata": {},
   "outputs": [
    {
     "name": "stdout",
     "output_type": "stream",
     "text": [
      "[Array(1769.8387, dtype=float32), Array(961370.25, dtype=float32), Array(1869.291, dtype=float32), Array(211461.53, dtype=float32), Array(89381.84, dtype=float32)]\n"
     ]
    }
   ],
   "source": [
    "grad_dx = jax.grad(function_grad)\n",
    "\n",
    "gradient_values_x = []\n",
    "for a in range(lleng):\n",
    "    gradient_values_x.append(grad_dx(random_val_x[a],random_val_y[a]))\n",
    "\n",
    "print(gradient_values_x)"
   ]
  },
  {
   "cell_type": "code",
   "execution_count": 95,
   "metadata": {},
   "outputs": [
    {
     "name": "stdout",
     "output_type": "stream",
     "text": [
      "[Array(3867.3865, dtype=float32), Array(-8346.465, dtype=float32), Array(576.9563, dtype=float32), Array(21670.93, dtype=float32), Array(4781.2744, dtype=float32)]\n"
     ]
    }
   ],
   "source": [
    "grad_dy = jax.grad(function_grad, argnums=1)\n",
    "gradient_values_y = []\n",
    "for a in range(lleng):\n",
    "    gradient_values_y.append(grad_dy(random_val_x[a],random_val_y[a]))\n",
    "print(gradient_values_y)"
   ]
  },
  {
   "cell_type": "markdown",
   "metadata": {},
   "source": [
    "As we can observe the solution obtained using JAX, and the solution which I obtained, match for some of the random values of x and y."
   ]
  },
  {
   "cell_type": "markdown",
   "metadata": {},
   "source": [
    "Question6: \n",
    "\n",
    "Using sympy to analyze the same"
   ]
  },
  {
   "cell_type": "code",
   "execution_count": 3,
   "metadata": {},
   "outputs": [],
   "source": [
    "import sympy"
   ]
  },
  {
   "cell_type": "code",
   "execution_count": 5,
   "metadata": {},
   "outputs": [
    {
     "data": {
      "text/latex": [
       "$\\displaystyle 2 x y + y^{3} \\cos{\\left(x \\right)}$"
      ],
      "text/plain": [
       "2*x*y + y**3*cos(x)"
      ]
     },
     "metadata": {},
     "output_type": "display_data"
    },
    {
     "data": {
      "text/latex": [
       "$\\displaystyle x^{2} + 3 y^{2} \\sin{\\left(x \\right)}$"
      ],
      "text/plain": [
       "x**2 + 3*y**2*sin(x)"
      ]
     },
     "metadata": {},
     "output_type": "display_data"
    }
   ],
   "source": [
    "x, y = sympy.symbols(\"x y\")\n",
    "f_x_y = x**2 * y + y**3 * sympy.sin(x)\n",
    "\n",
    "\n",
    "grad_dx = sympy.diff(f_x_y,x)\n",
    "grad_dy = sympy.diff(f_x_y,y)\n",
    "\n",
    "display(grad_dx)\n",
    "display(grad_dy)"
   ]
  },
  {
   "cell_type": "markdown",
   "metadata": {},
   "source": [
    "Question7:\n",
    "\n",
    "Creating nested dictionary"
   ]
  },
  {
   "cell_type": "code",
   "execution_count": 1,
   "metadata": {},
   "outputs": [
    {
     "name": "stdout",
     "output_type": "stream",
     "text": [
      "{2022: {'branch2': {'Roll Number': 2, 'Name': 'M', 'Marks': {'Maths': 60, 'English': 100, 'Science': 100}}}, 2023: {'branch1': {'Roll Number': 1, 'Name': 'N', 'Marks': {'Maths': 80, 'English': 90, 'Science': 100}}}, 2024: {'branch1': {'Roll Number': 1, 'Name': 'N', 'Marks': {'Maths': 100, 'English': 80, 'Science': 87}}}, 2025: {'branch1': {'Roll Number': 1, 'Name': 'N', 'Marks': {'Maths': 85, 'English': 98, 'Science': 100}}}}\n"
     ]
    }
   ],
   "source": [
    "#creating a nested dictionary.\n",
    "\n",
    "dict_classes = {2022:{\"branch1\":{\"Roll Number\":1, \"Name\":\"N\",\"Marks\":{\"Maths\":100, \"English\":70, \"Science\":90}}},2022:{\"branch2\":{\"Roll Number\":2, \"Name\":\"M\",\"Marks\":{\"Maths\":90, \"English\":80, \"Science\":90}}}\n",
    "                ,2023:{\"branch1\":{\"Roll Number\":1, \"Name\":\"N\",\"Marks\":{\"Maths\":80, \"English\":90, \"Science\":100}}},2022:{\"branch2\":{\"Roll Number\":2, \"Name\":\"M\",\"Marks\":{\"Maths\":100, \"English\":90, \"Science\":95}}}\n",
    "                ,2024:{\"branch1\":{\"Roll Number\":1, \"Name\":\"N\",\"Marks\":{\"Maths\":100, \"English\":80, \"Science\":87}}},2022:{\"branch2\":{\"Roll Number\":2, \"Name\":\"M\",\"Marks\":{\"Maths\":70, \"English\":90, \"Science\":85}}}\n",
    "                ,2025:{\"branch1\":{\"Roll Number\":1, \"Name\":\"N\",\"Marks\":{\"Maths\":85, \"English\":98, \"Science\":100}}},2022:{\"branch2\":{\"Roll Number\":2, \"Name\":\"M\",\"Marks\":{\"Maths\":60, \"English\":100, \"Science\":100}}}\n",
    "                }\n",
    "print(dict_classes)\n"
   ]
  },
  {
   "cell_type": "markdown",
   "metadata": {},
   "source": [
    "Question 8 \n",
    "\n",
    "Reference : Python Crash Course, 3rd Edition: A Hands-On, Project-Based Introduction to Programming - Chapter: Classes"
   ]
  },
  {
   "cell_type": "code",
   "execution_count": 7,
   "metadata": {},
   "outputs": [],
   "source": [
    "#First we define the year\n",
    "\n",
    "class Year:\n",
    "    def __init__(self, year):\n",
    "        self.year = year\n",
    "        self.branches = []\n",
    "\n",
    "    def branch_add(self, branch):\n",
    "        self.branches.append(branch)\n",
    "    \n",
    "class Branch:\n",
    "    def __init__(self, name):\n",
    "        self.name = name\n",
    "        self.students = []\n",
    "    \n",
    "    def student_add(self, student):\n",
    "        self.students.append(student)\n",
    "\n",
    "class Student:\n",
    "    def __init__(self, name, roll_number):\n",
    "        self.name = name\n",
    "        self.roll_number = roll_number\n",
    "        self.marks = []\n",
    "\n",
    "    def marks_add(self, mark):\n",
    "        self.marks.append(mark)\n",
    "    \n",
    "class Marks:\n",
    "    def __init__(self, subject, marks):\n",
    "        self.subject = subject\n",
    "        self.marks = marks\n",
    "\n",
    "    "
   ]
  },
  {
   "cell_type": "code",
   "execution_count": 9,
   "metadata": {},
   "outputs": [],
   "source": [
    "#The same data, in the previous case, can be stored in these classes\n",
    "\n",
    "df = []\n",
    "\n",
    "#adding year\n",
    "yr = Year(2024)\n",
    "\n",
    "#Adding Branch\n",
    "branch = Branch(\"EE\")\n",
    "yr.branch_add(branch)\n",
    "\n",
    "#adding students\n",
    "std_1 = Student(\"Tejas\", 335)\n",
    "std_1.marks_add(Marks(\"DCC\", 100))\n",
    "std_1.marks_add(Marks(\"Maths\", 90))\n",
    "\n",
    "branch.student_add(std_1)\n",
    "\n",
    "df.append(yr)\n",
    "\n",
    "#In this way, the same data can be filled in a more organized way."
   ]
  },
  {
   "cell_type": "markdown",
   "metadata": {},
   "source": [
    "Question 9"
   ]
  },
  {
   "cell_type": "code",
   "execution_count": 19,
   "metadata": {},
   "outputs": [
    {
     "name": "stdout",
     "output_type": "stream",
     "text": [
      "[  0.    0.5   1.    1.5   2.    2.5   3.    3.5   4.    4.5   5.    5.5\n",
      "   6.    6.5   7.    7.5   8.    8.5   9.    9.5  10.   10.5  11.   11.5\n",
      "  12.   12.5  13.   13.5  14.   14.5  15.   15.5  16.   16.5  17.   17.5\n",
      "  18.   18.5  19.   19.5  20.   20.5  21.   21.5  22.   22.5  23.   23.5\n",
      "  24.   24.5  25.   25.5  26.   26.5  27.   27.5  28.   28.5  29.   29.5\n",
      "  30.   30.5  31.   31.5  32.   32.5  33.   33.5  34.   34.5  35.   35.5\n",
      "  36.   36.5  37.   37.5  38.   38.5  39.   39.5  40.   40.5  41.   41.5\n",
      "  42.   42.5  43.   43.5  44.   44.5  45.   45.5  46.   46.5  47.   47.5\n",
      "  48.   48.5  49.   49.5  50.   50.5  51.   51.5  52.   52.5  53.   53.5\n",
      "  54.   54.5  55.   55.5  56.   56.5  57.   57.5  58.   58.5  59.   59.5\n",
      "  60.   60.5  61.   61.5  62.   62.5  63.   63.5  64.   64.5  65.   65.5\n",
      "  66.   66.5  67.   67.5  68.   68.5  69.   69.5  70.   70.5  71.   71.5\n",
      "  72.   72.5  73.   73.5  74.   74.5  75.   75.5  76.   76.5  77.   77.5\n",
      "  78.   78.5  79.   79.5  80.   80.5  81.   81.5  82.   82.5  83.   83.5\n",
      "  84.   84.5  85.   85.5  86.   86.5  87.   87.5  88.   88.5  89.   89.5\n",
      "  90.   90.5  91.   91.5  92.   92.5  93.   93.5  94.   94.5  95.   95.5\n",
      "  96.   96.5  97.   97.5  98.   98.5  99.   99.5 100. ]\n"
     ]
    }
   ],
   "source": [
    "x_val = np.arange(0,100.5,0.5)\n",
    "print(x_val)"
   ]
  },
  {
   "cell_type": "code",
   "execution_count": 20,
   "metadata": {},
   "outputs": [
    {
     "data": {
      "text/plain": [
       "<matplotlib.legend.Legend at 0x151c6c770>"
      ]
     },
     "execution_count": 20,
     "metadata": {},
     "output_type": "execute_result"
    },
    {
     "data": {
      "image/png": "[encoded data removed]",
      "text/plain": [
       "<Figure size 640x480 with 1 Axes>"
      ]
     },
     "metadata": {},
     "output_type": "display_data"
    }
   ],
   "source": [
    "#plotting x=y\n",
    "y_val = x_val\n",
    "plt.plot(x_val, y_val, label=\"X vs Y\")\n",
    "plt.xlabel(\"X\")\n",
    "plt.ylabel(\"Y\")\n",
    "plt.legend()"
   ]
  },
  {
   "cell_type": "code",
   "execution_count": 21,
   "metadata": {},
   "outputs": [
    {
     "data": {
      "text/plain": [
       "<matplotlib.legend.Legend at 0x151d514f0>"
      ]
     },
     "execution_count": 21,
     "metadata": {},
     "output_type": "execute_result"
    },
    {
     "data": {
      "image/png": "[encoded data removed]",
      "text/plain": [
       "<Figure size 640x480 with 1 Axes>"
      ]
     },
     "metadata": {},
     "output_type": "display_data"
    }
   ],
   "source": [
    "#plotting \n",
    "\n",
    "y_val_x2 = []\n",
    "for a in x_val:\n",
    "    y_val_x2.append(a**2)\n",
    "\n",
    "plt.plot(x_val, y_val_x2, label=\"X^2 vs Y\")\n",
    "plt.xlabel(\"X\")\n",
    "plt.ylabel(\"Y\")\n",
    "plt.legend()\n",
    "\n"
   ]
  },
  {
   "cell_type": "code",
   "execution_count": 22,
   "metadata": {},
   "outputs": [
    {
     "data": {
      "text/plain": [
       "<matplotlib.legend.Legend at 0x151ddea20>"
      ]
     },
     "execution_count": 22,
     "metadata": {},
     "output_type": "execute_result"
    },
    {
     "data": {
      "image/png": "[encoded data removed]",
      "text/plain": [
       "<Figure size 640x480 with 1 Axes>"
      ]
     },
     "metadata": {},
     "output_type": "display_data"
    }
   ],
   "source": [
    "y_x3_100 = []\n",
    "for a in x_val:\n",
    "    y_x3_100.append(a**3/100)\n",
    "\n",
    "plt.plot(x_val, y_x3_100, label=\"X^3/100 vs Y\")\n",
    "plt.xlabel(\"X\")\n",
    "plt.ylabel(\"Y\")\n",
    "plt.legend()"
   ]
  },
  {
   "cell_type": "code",
   "execution_count": 23,
   "metadata": {},
   "outputs": [
    {
     "data": {
      "text/plain": [
       "<matplotlib.legend.Legend at 0x151e859a0>"
      ]
     },
     "execution_count": 23,
     "metadata": {},
     "output_type": "execute_result"
    },
    {
     "data": {
      "image/png": "[encoded data removed]",
      "text/plain": [
       "<Figure size 640x480 with 1 Axes>"
      ]
     },
     "metadata": {},
     "output_type": "display_data"
    }
   ],
   "source": [
    "y_sinx = []\n",
    "\n",
    "for a in x_val:\n",
    "    y_sinx.append(np.sin(a))\n",
    "\n",
    "plt.plot(x_val, y_sinx, label=\"sin(x) vs Y\")\n",
    "plt.xlabel(\"x\")\n",
    "plt.ylabel(\"Y\")\n",
    "plt.legend()"
   ]
  },
  {
   "cell_type": "code",
   "execution_count": 24,
   "metadata": {},
   "outputs": [
    {
     "name": "stderr",
     "output_type": "stream",
     "text": [
      "/var/folders/55/_kpfspls6xq0pzzm_dl4ylxc0000gn/T/ipykernel_15630/543175716.py:5: RuntimeWarning: divide by zero encountered in log10\n",
      "  y_logx_10.append(np.log10(a))\n",
      "/var/folders/55/_kpfspls6xq0pzzm_dl4ylxc0000gn/T/ipykernel_15630/543175716.py:6: RuntimeWarning: divide by zero encountered in log\n",
      "  y_logx.append(np.log(a))\n"
     ]
    },
    {
     "data": {
      "text/plain": [
       "<matplotlib.legend.Legend at 0x151f059a0>"
      ]
     },
     "execution_count": 24,
     "metadata": {},
     "output_type": "execute_result"
    },
    {
     "data": {
      "image/png": "[encoded data removed]",
      "text/plain": [
       "<Figure size 640x480 with 1 Axes>"
      ]
     },
     "metadata": {},
     "output_type": "display_data"
    }
   ],
   "source": [
    "y_logx_10 = []\n",
    "y_logx = []\n",
    "for a in x_val:\n",
    "    if x!=0:\n",
    "        y_logx_10.append(np.log10(a))\n",
    "        y_logx.append(np.log(a))\n",
    "\n",
    "plt.plot(x_val, y_logx_10, label=\"log10(x) vs Y\")\n",
    "plt.plot(x_val, y_logx, label=\"log(x) vs Y\")\n",
    "plt.xlabel(\"x\")\n",
    "plt.ylabel(\"y\")\n",
    "plt.legend()"
   ]
  },
  {
   "cell_type": "code",
   "execution_count": 25,
   "metadata": {},
   "outputs": [
    {
     "data": {
      "text/plain": [
       "<matplotlib.legend.Legend at 0x151f81070>"
      ]
     },
     "execution_count": 25,
     "metadata": {},
     "output_type": "execute_result"
    },
    {
     "data": {
      "image/png": "[encoded data removed]",
      "text/plain": [
       "<Figure size 640x480 with 1 Axes>"
      ]
     },
     "metadata": {},
     "output_type": "display_data"
    }
   ],
   "source": [
    "y_ex = []\n",
    "\n",
    "for a in x_val:\n",
    "    y_ex.append(np.e**a)\n",
    "\n",
    "plt.plot(x_val, y_ex, label=\"e^(x) vs Y\")\n",
    "plt.xlabel(\"x\")\n",
    "plt.ylabel(\"Y\")\n",
    "plt.legend()\n"
   ]
  },
  {
   "cell_type": "markdown",
   "metadata": {},
   "source": [
    "Question_10"
   ]
  },
  {
   "cell_type": "code",
   "execution_count": 131,
   "metadata": {},
   "outputs": [
    {
     "name": "stdout",
     "output_type": "stream",
     "text": [
      "[[0.96903924 0.91085257 1.73329015 1.09258644 0.51731233]\n",
      " [0.39952347 0.78194214 0.74412449 1.93274635 1.03186708]\n",
      " [0.0054948  0.33942523 1.86393975 1.36307812 0.26353307]\n",
      " [1.35460882 1.50598784 0.73187778 1.90664645 1.55196322]\n",
      " [1.11146438 1.40124465 0.65572045 1.20566453 0.12481147]\n",
      " [1.07139262 0.21936927 0.73502368 1.36337068 1.28484537]\n",
      " [1.55598074 1.92179213 1.11072847 1.60719454 1.93221051]\n",
      " [1.02634667 1.86459335 0.13748789 0.41015648 1.25005867]\n",
      " [1.74795187 0.80733666 0.32749194 1.96276512 0.74979645]\n",
      " [1.01575565 0.00954044 1.59746797 1.95856899 0.9725682 ]\n",
      " [1.0061841  0.78843724 0.50525314 0.02085756 0.02803693]\n",
      " [1.92804056 1.17523374 1.02555117 1.46231133 0.99634276]\n",
      " [1.15900221 0.69363905 1.21252423 0.14303071 0.18892826]\n",
      " [0.08028994 0.30748476 0.41802679 1.28059762 1.20560411]\n",
      " [1.99632158 0.64018467 0.38252651 1.47006829 0.76098548]\n",
      " [1.60136478 1.63847748 0.01174709 1.83556308 1.80427041]\n",
      " [1.5603199  1.68399949 0.93678026 0.7872606  0.50834116]\n",
      " [0.65801749 0.93216695 0.66162751 1.04875555 1.59624012]\n",
      " [0.58004289 0.8778799  0.56265477 0.99691045 1.73056713]\n",
      " [1.67499517 1.38779627 1.18896793 1.4494413  0.55251754]]\n"
     ]
    }
   ],
   "source": [
    "matr = np.random.rand(20,5)*2\n",
    "print(matr)"
   ]
  },
  {
   "cell_type": "code",
   "execution_count": 132,
   "metadata": {},
   "outputs": [
    {
     "name": "stdout",
     "output_type": "stream",
     "text": [
      "           a         b         c         d         e\n",
      "0   0.969039  0.910853  1.733290  1.092586  0.517312\n",
      "1   0.399523  0.781942  0.744124  1.932746  1.031867\n",
      "2   0.005495  0.339425  1.863940  1.363078  0.263533\n",
      "3   1.354609  1.505988  0.731878  1.906646  1.551963\n",
      "4   1.111464  1.401245  0.655720  1.205665  0.124811\n",
      "5   1.071393  0.219369  0.735024  1.363371  1.284845\n",
      "6   1.555981  1.921792  1.110728  1.607195  1.932211\n",
      "7   1.026347  1.864593  0.137488  0.410156  1.250059\n",
      "8   1.747952  0.807337  0.327492  1.962765  0.749796\n",
      "9   1.015756  0.009540  1.597468  1.958569  0.972568\n",
      "10  1.006184  0.788437  0.505253  0.020858  0.028037\n",
      "11  1.928041  1.175234  1.025551  1.462311  0.996343\n",
      "12  1.159002  0.693639  1.212524  0.143031  0.188928\n",
      "13  0.080290  0.307485  0.418027  1.280598  1.205604\n",
      "14  1.996322  0.640185  0.382527  1.470068  0.760985\n",
      "15  1.601365  1.638477  0.011747  1.835563  1.804270\n",
      "16  1.560320  1.683999  0.936780  0.787261  0.508341\n",
      "17  0.658017  0.932167  0.661628  1.048756  1.596240\n",
      "18  0.580043  0.877880  0.562655  0.996910  1.730567\n",
      "19  1.674995  1.387796  1.188968  1.449441  0.552518\n"
     ]
    }
   ],
   "source": [
    "df = pd.DataFrame(matr, columns=[\"a\", \"b\", \"c\", \"d\", \"e\"])\n",
    "print(df)"
   ]
  },
  {
   "cell_type": "code",
   "execution_count": 148,
   "metadata": {},
   "outputs": [
    {
     "name": "stdout",
     "output_type": "stream",
     "text": [
      "[np.float64(0.5567732648105341), 'a', np.float64(0.5457451281639729), 'b', np.float64(0.495514931767051), 'c', np.float64(0.5621507776762938), 'd', np.float64(0.5726258452684551), 'e']\n"
     ]
    }
   ],
   "source": [
    "max_col = []\n",
    "for a in df:\n",
    "    #print()\n",
    "    #print(df[a])\n",
    "    numpy_array = df[a].to_numpy()\n",
    "    max_col.append(np.std(numpy_array))\n",
    "    max_col.append(a)\n",
    "\n",
    "print(max_col)\n",
    "\n",
    "max_val_col = max_col[0::2]\n"
   ]
  },
  {
   "cell_type": "code",
   "execution_count": 174,
   "metadata": {},
   "outputs": [
    {
     "name": "stdout",
     "output_type": "stream",
     "text": [
      "0     0.517312\n",
      "1     1.031867\n",
      "2     0.263533\n",
      "3     1.551963\n",
      "4     0.124811\n",
      "5     1.284845\n",
      "6     1.932211\n",
      "7     1.250059\n",
      "8     0.749796\n",
      "9     0.972568\n",
      "10    0.028037\n",
      "11    0.996343\n",
      "12    0.188928\n",
      "13    1.205604\n",
      "14    0.760985\n",
      "15    1.804270\n",
      "16    0.508341\n",
      "17    1.596240\n",
      "18    1.730567\n",
      "19    0.552518\n",
      "Name: e, dtype: float64\n",
      "\n",
      "4th is the column with maximum standard deviation of 0.5726258452684551\n"
     ]
    }
   ],
   "source": [
    "\n",
    "max_val= max(max_val_col)\n",
    "max_ind = max_val_col.index(max_val)\n",
    "\n",
    "\n",
    "print(df[max_col[2*max_ind+1]])\n",
    "print()\n",
    "print(f\"{max_ind}th is the column with maximum standard deviation of {max_val}\")"
   ]
  },
  {
   "cell_type": "code",
   "execution_count": 170,
   "metadata": {},
   "outputs": [
    {
     "name": "stdout",
     "output_type": "stream",
     "text": [
      "10th is the row with minimm mean 1.033458351651418\n"
     ]
    }
   ],
   "source": [
    "sum_col = np.zeros(20)\n",
    "for a in df:\n",
    "    sum_col = sum_col + df[a].to_numpy()\n",
    "new_col = sum_col #This is for the next question\n",
    "sum_col = sum_col/5\n",
    "sum_col = list(sum_col)\n",
    "min_val_col = min(sum_col)\n",
    "min_val_ind = sum_col.index(min_val_col)\n",
    "print(f\"{min_val_ind}th is the row with minimm mean {min_val_col}\")\n",
    "\n"
   ]
  },
  {
   "cell_type": "markdown",
   "metadata": {},
   "source": [
    "Question 11"
   ]
  },
  {
   "cell_type": "code",
   "execution_count": 176,
   "metadata": {},
   "outputs": [],
   "source": [
    "df[\"f\"] = new_col\n",
    "\n",
    "new_list= list(df[\"f\"])\n",
    "new_list_g = []\n",
    "for a in new_list:\n",
    "    if int(a)<8:\n",
    "        new_list_g.append(\"LT8\")\n",
    "    else:\n",
    "        new_list_g.append(\"GT8\")\n",
    "\n",
    "df[\"g\"] = new_list_g\n"
   ]
  },
  {
   "cell_type": "code",
   "execution_count": 178,
   "metadata": {},
   "outputs": [
    {
     "name": "stdout",
     "output_type": "stream",
     "text": [
      "           a         b         c         d         e          f    g\n",
      "0   0.969039  0.910853  1.733290  1.092586  0.517312  11.490778  GT8\n",
      "1   0.399523  0.781942  0.744124  1.932746  1.031867  10.758448  GT8\n",
      "2   0.005495  0.339425  1.863940  1.363078  0.263533   8.438036  GT8\n",
      "3   1.354609  1.505988  0.731878  1.906646  1.551963  15.512385  GT8\n",
      "4   1.111464  1.401245  0.655720  1.205665  0.124811   9.897592  GT8\n",
      "5   1.071393  0.219369  0.735024  1.363371  1.284845  10.282804  GT8\n",
      "6   1.555981  1.921792  1.110728  1.607195  1.932211  17.881394  GT8\n",
      "7   1.026347  1.864593  0.137488  0.410156  1.250059  10.315015  GT8\n",
      "8   1.747952  0.807337  0.327492  1.962765  0.749796  12.309752  GT8\n",
      "9   1.015756  0.009540  1.597468  1.958569  0.972568  12.218583  GT8\n",
      "10  1.006184  0.788437  0.505253  0.020858  0.028037   5.167292  LT8\n",
      "11  1.928041  1.175234  1.025551  1.462311  0.996343  14.492455  GT8\n",
      "12  1.159002  0.693639  1.212524  0.143031  0.188928   7.473674  LT8\n",
      "13  0.080290  0.307485  0.418027  1.280598  1.205604   7.242407  LT8\n",
      "14  1.996322  0.640185  0.382527  1.470068  0.760985  11.550190  GT8\n",
      "15  1.601365  1.638477  0.011747  1.835563  1.804270  15.161130  GT8\n",
      "16  1.560320  1.683999  0.936780  0.787261  0.508341  12.048743  GT8\n",
      "17  0.658017  0.932167  0.661628  1.048756  1.596240  10.772977  GT8\n",
      "18  0.580043  0.877880  0.562655  0.996910  1.730567  10.445721  GT8\n",
      "19  1.674995  1.387796  1.188968  1.449441  0.552518  13.758180  GT8\n"
     ]
    }
   ],
   "source": [
    "print(df)"
   ]
  },
  {
   "cell_type": "code",
   "execution_count": 179,
   "metadata": {},
   "outputs": [
    {
     "name": "stdout",
     "output_type": "stream",
     "text": [
      "standard deviation of elements in column f, when corresponding row has the value lt8, 1.0370356276504085\n",
      "standard deviation of elements in column f, when corresponding row has the value gt8, 2.358167191236735\n"
     ]
    }
   ],
   "source": [
    "#Next part is to find standard deivation according to the LT8 or GT8\n",
    "lt8_list = []\n",
    "gt8_list = []\n",
    "\n",
    "for a in range(len(new_list)):\n",
    "    if df[\"g\"][a] == \"LT8\":\n",
    "        lt8_list.append(df[\"f\"][a])\n",
    "    else:\n",
    "        gt8_list.append(df[\"f\"][a])\n",
    "\n",
    "print(f\"standard deviation of elements in column f, when corresponding row has the value lt8, {np.std(lt8_list)}\")\n",
    "print(f\"standard deviation of elements in column f, when corresponding row has the value gt8, {np.std(gt8_list)}\")\n",
    "\n",
    "      "
   ]
  },
  {
   "cell_type": "markdown",
   "metadata": {},
   "source": [
    "Question 12"
   ]
  },
  {
   "cell_type": "markdown",
   "metadata": {},
   "source": [
    "Broadcasting is a conept which allows arithmetic operations between 2 arrays, if the size of the arrays are not equal.\n",
    "\n",
    "Various rules have ben defined which expand the size of the smaller array, making it capable for the operations to hapeen with the bigger array.\n",
    "\n",
    "Final array has the same dimension as the initial bigger array.\n",
    "\n",
    "Reference: https://www.geeksforgeeks.org/numpy-array-broadcasting/"
   ]
  },
  {
   "cell_type": "code",
   "execution_count": 189,
   "metadata": {},
   "outputs": [
    {
     "name": "stdout",
     "output_type": "stream",
     "text": [
      "[ 754  600  275 6497  343]\n"
     ]
    }
   ],
   "source": [
    "#array element wise Multiplication\n",
    "\n",
    "lst_1 = [58, 6, 25, 89, 7]\n",
    "lst_2 = [13, 100, 11, 73, 49]\n",
    "\n",
    "\n",
    "# Array Element-Wise Multiplication\n",
    "\n",
    "# c = a*b\n",
    "#For this operation, we define a function named multiplication\n",
    "\n",
    "def multiplication(lst1, lst2):\n",
    "    final_ans = []\n",
    "    #Assuming them, to be of the same length\n",
    "    for a in range(len(lst1)):\n",
    "        final_ans.append(lst1[a]*lst2[a])\n",
    "    return np.array(final_ans)\n",
    "\n",
    "ans = multiplication(lst_1, lst_2)\n",
    "print(ans)"
   ]
  },
  {
   "cell_type": "code",
   "execution_count": 191,
   "metadata": {},
   "outputs": [
    {
     "name": "stdout",
     "output_type": "stream",
     "text": [
      "[[174, 24, 175, 712, 7], [39, 400, 77, 584, 49], [12, 68, 231, 720, 81], [300, 372, 280, 400, 14]]\n"
     ]
    }
   ],
   "source": [
    "#Broadcasting Array - Element wise operation \n",
    "#in this case, some higher dimensioned array, when multiplied by lesser dimensioned array, is shown\n",
    "\n",
    "x=[[58, 6, 25, 89, 7],[13, 100, 11, 73, 49],[4,17,33,90,81],[100,93,40,50,14]]\n",
    "\n",
    "#Lets say, the bracket to be multiplied is [3,4,7,8]\n",
    "\n",
    "multiplier = [3,4,7,8]\n",
    "\n",
    "def d2_multiplication(lst1, lst2):\n",
    "    for a in lst1:\n",
    "        for b in range(len(lst1)):\n",
    "            a[b] = a[b]*lst2[b] \n",
    "    return lst1\n",
    "\n",
    "output_ans = d2_multiplication(x, multiplier)\n",
    "print(output_ans)"
   ]
  },
  {
   "cell_type": "code",
   "execution_count": 194,
   "metadata": {},
   "outputs": [
    {
     "name": "stdout",
     "output_type": "stream",
     "text": [
      "[[63, 11, 30, 94, 12], [18, 105, 16, 78, 54], [9, 22, 38, 95, 86], [105, 98, 45, 55, 19]]\n"
     ]
    }
   ],
   "source": [
    "#Few more examples of addition\n",
    "\n",
    "#This is the example of addition\n",
    "#Let the main array be:\n",
    "\n",
    "x=[[58, 6, 25, 89, 7],[13, 100, 11, 73, 49],[4,17,33,90,81],[100,93,40,50,14]]\n",
    "\n",
    "#The array to be added = 5\n",
    "adder  = 5\n",
    "\n",
    "def addition(lst1, adder):\n",
    "    for a in range(len(x)):\n",
    "        for b in range(len(lst1[a])):\n",
    "            lst1[a][b] = lst1[a][b] + adder\n",
    "    return lst1\n",
    "\n",
    "\n",
    "ans_addition = addition(x, adder)\n",
    "print(ans_addition)\n",
    "\n",
    "#Here we can observe that the elements can be added, despite hacing different dimensions.\n"
   ]
  },
  {
   "cell_type": "markdown",
   "metadata": {},
   "source": [
    "Question 13"
   ]
  },
  {
   "cell_type": "code",
   "execution_count": 26,
   "metadata": {},
   "outputs": [
    {
     "name": "stdout",
     "output_type": "stream",
     "text": [
      "Using defined function: 6\n",
      "\n",
      "Using numpy: 6\n"
     ]
    }
   ],
   "source": [
    "#Question which takes input as a numpy array and returns the minimum value\n",
    "\n",
    "array_rand = [58, 6, 25, 89, 7, 13, 100, 11, 73, 49]\n",
    "\n",
    "\n",
    "def argmin_multi_dimension(np_list):\n",
    "    np_list_flat = np_list.flatten()\n",
    "    min_ele = np_list[0]\n",
    "    for a in array_rand:\n",
    "        if min_ele > a:\n",
    "            min_ele = a\n",
    "        else:\n",
    "            pass\n",
    "    return min_ele\n",
    "\n",
    "\n",
    "min_ele = argmin_multi_dimension(np.array(array_rand))\n",
    "print(\"Using defined function:\", min_ele)\n",
    "print()\n",
    "print(\"Using numpy:\", array_rand[np.argmin(np.array(array_rand))])"
   ]
  },
  {
   "cell_type": "code",
   "execution_count": null,
   "metadata": {},
   "outputs": [],
   "source": []
  }
 ],
 "metadata": {
  "kernelspec": {
   "display_name": "Python 3",
   "language": "python",
   "name": "python3"
  },
  "language_info": {
   "codemirror_mode": {
    "name": "ipython",
    "version": 3
   },
   "file_extension": ".py",
   "mimetype": "text/x-python",
   "name": "python",
   "nbconvert_exporter": "python",
   "pygments_lexer": "ipython3",
   "version": "3.12.4"
  }
 },
 "nbformat": 4,
 "nbformat_minor": 2
}
